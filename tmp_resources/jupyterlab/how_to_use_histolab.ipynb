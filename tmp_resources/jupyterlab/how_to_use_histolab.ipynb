{
 "cells": [
  {
   "cell_type": "code",
   "execution_count": 1,
   "metadata": {},
   "outputs": [],
   "source": [
    "# Setup working directory so everything runs smoothly\n",
    "import os\n",
    "working_directory = '/Users/stevenhamel/Dropbox/My Mac (Steven’s MacBook Pro (2))/Documents/Projects/qpath_unet'\n",
    "os.chdir(working_directory)"
   ]
  },
  {
   "cell_type": "markdown",
   "metadata": {},
   "source": [
    "Here we present a step-by-step tutorial on the use of `histolab` to extract a tile dataset from example WSIs retrieve from the [TCGA repository](https://portal.gdc.cancer.gov/)."
   ]
  },
  {
   "cell_type": "markdown",
   "metadata": {},
   "source": [
    "## TCGA data\n",
    "First things first, let’s import some data to work with, for example the prostate tissue slide and the ovarian tissue slide available in the `data` module:"
   ]
  },
  {
   "cell_type": "code",
   "execution_count": 2,
   "metadata": {},
   "outputs": [],
   "source": [
    "from histolab.data import prostate_tissue, ovarian_tissue"
   ]
  },
  {
   "cell_type": "markdown",
   "metadata": {},
   "source": [
    "<div class=\"alert alert-block alert-info\">\n",
    "<b>Note:</b> To  use  the <mark>data</mark>  module,  you  need  to  install <mark><a href=”https://pypi.org/project/pooch/\">pooch</a></mark>. This step is needless if we are using the Vagrant/Docker virtual environment.</div>"
   ]
  },
  {
   "cell_type": "markdown",
   "metadata": {},
   "source": [
    "The call to a  `data` function will automatically download the WSIs from the corresponding repository and save the slide in a cached directory:"
   ]
  },
  {
   "cell_type": "code",
   "execution_count": 3,
   "metadata": {},
   "outputs": [],
   "source": [
    "# prostate_svs, prostate_path = prostate_tissue()\n",
    "# ovarian_svs, ovarian_path = ovarian_tissue()"
   ]
  },
  {
   "cell_type": "code",
   "execution_count": 14,
   "metadata": {},
   "outputs": [],
   "source": [
    "# Set up path to images\n",
    "tissue = 'R1030'\n",
    "qpun_path = f\"images/merad_lab_images/{tissue}/{tissue}T_HE.svs\""
   ]
  },
  {
   "cell_type": "markdown",
   "metadata": {},
   "source": [
    "Notice that each  `data` function outputs the corresponding slide, as an *OpenSlide* object, and the path where the slide has been saved."
   ]
  },
  {
   "cell_type": "markdown",
   "metadata": {},
   "source": [
    "## Slide initialization\n",
    "\n",
    "`histolab` maps a WSI file into a `Slide` object. Each usage of a WSI requires a 1-o-1 association with a `Slide` object contained in the `slide` module:"
   ]
  },
  {
   "cell_type": "code",
   "execution_count": 15,
   "metadata": {},
   "outputs": [],
   "source": [
    "from histolab.slide import Slide"
   ]
  },
  {
   "cell_type": "markdown",
   "metadata": {},
   "source": [
    "To initialize a `Slide` it is necessary to specify the WSI path, and the `processed_path` where the thumbnail and the tiles will be saved. In our example, we want the `processed_path` of each slide to be a subfolder of the current working directory:"
   ]
  },
  {
   "cell_type": "code",
   "execution_count": 16,
   "metadata": {},
   "outputs": [],
   "source": [
    "BASE_PATH = os.getcwd()\n",
    "\n",
    "\n",
    "# PROCESS_PATH_PROSTATE = os.path.join(BASE_PATH, 'prostate', 'processed')\n",
    "# PROCESS_PATH_OVARIAN = os.path.join(BASE_PATH, 'ovarian', 'processed')\n",
    "PROCESS_PATH_QPUN = os.path.join(BASE_PATH,'images','histolab','R1024', 'processed')\n",
    "os.makedirs(PROCESS_PATH_QPUN, exist_ok=True)\n",
    "\n",
    "# prostate_slide = Slide(prostate_path, processed_path=PROCESS_PATH_PROSTATE)\n",
    "# ovarian_slide = Slide(ovarian_path, processed_path=PROCESS_PATH_OVARIAN)\n",
    "qpun_slide = Slide(qpun_path, processed_path=PROCESS_PATH_QPUN)"
   ]
  },
  {
   "cell_type": "markdown",
   "metadata": {},
   "source": [
    "<div class=\"alert alert-block alert-info\">\n",
    "<b>Note:</b> If our slides were stored in the same folder, this can be done directly on the whole dataset by calling the <mark>SlideSet</mark> object of the <mark>slide</mark> module.</div>"
   ]
  },
  {
   "cell_type": "markdown",
   "metadata": {},
   "source": [
    "With a `Slide` object we can easily retrieve information about the slide, such as the slide name, the number of available levels, the dimensions at native magnification or at a specified level:"
   ]
  },
  {
   "cell_type": "code",
   "execution_count": 17,
   "metadata": {},
   "outputs": [
    {
     "name": "stdout",
     "output_type": "stream",
     "text": [
      "Slide name: R1030T_HE\n",
      "Levels: [0, 1, 2]\n",
      "Dimensions at level 0: (25896, 15638)\n",
      "Dimensions at level 1: (6474, 3909)\n",
      "Dimensions at level 2: (3237, 1954)\n"
     ]
    }
   ],
   "source": [
    "print(f\"Slide name: {qpun_slide.name}\")\n",
    "print(f\"Levels: {qpun_slide.levels}\")\n",
    "print(f\"Dimensions at level 0: {qpun_slide.dimensions}\")\n",
    "print(f\"Dimensions at level 1: {qpun_slide.level_dimensions(level=1)}\")\n",
    "print(f\"Dimensions at level 2: {qpun_slide.level_dimensions(level=2)}\")"
   ]
  },
  {
   "cell_type": "markdown",
   "metadata": {},
   "source": [
    "Moreover, we can save and show the slide thumbnail in a separate window. In particular, the thumbnail image will be automatically saved in a subdirectory of the `processed_path`:\n"
   ]
  },
  {
   "cell_type": "code",
   "execution_count": 18,
   "metadata": {},
   "outputs": [],
   "source": [
    "qpun_slide.thumbnail\n",
    "qpun_slide.show()"
   ]
  },
  {
   "cell_type": "markdown",
   "metadata": {},
   "source": [
    "## Tiles extraction\n",
    "\n",
    "Once that our `Slide` objects are defined, we can proceed to extract the tiles. To speed up the extraction process, `histolab` automatically detects the tissue region with the largest connected area and crops the tiles within this field. The `tiler` module implements different strategies for the tiles extraction and provides an intuitive interface to easily retrieve a tile dataset suitable for our task. In particular, each extraction method is customizable with several common parameters:\n",
    "\n",
    "P1) `tile_size`: the tile size;\n",
    "\n",
    "P2) `level`: the extraction level (from 0 to the number of available levels);\n",
    "\n",
    "P3) `check_tissue`: if a minimum percentage of tissue is required to save the tiles (default is 80\\%);\n",
    "\n",
    "P4) `prefix`: a prefix to be added at the beginning of the tiles' filename (default is the empty string);\n",
    "\n",
    "P5) `suffix`: a suffix to be added to the end of the tiles' filename (default is `.png`)."
   ]
  },
  {
   "cell_type": "markdown",
   "metadata": {},
   "source": [
    "### Random extraction"
   ]
  },
  {
   "cell_type": "markdown",
   "metadata": {},
   "source": [
    "The simplest approach we may adopt is to randomly crop a fixed number of tiles from our slides; in this case, we need the `RandomTiler` extractor:"
   ]
  },
  {
   "cell_type": "code",
   "execution_count": 19,
   "metadata": {},
   "outputs": [],
   "source": [
    "from histolab.tiler import RandomTiler"
   ]
  },
  {
   "cell_type": "markdown",
   "metadata": {},
   "source": [
    "Let's suppose that we want to randomly extract 6 squared tiles at level 2 of size 512 from our prostate slide, and that we want to save them only if they have at least 80\\% of tissue inside. We then initialize our `RandomTiler` extractor as follows:"
   ]
  },
  {
   "cell_type": "code",
   "execution_count": 20,
   "metadata": {},
   "outputs": [],
   "source": [
    "random_tiles_extractor = RandomTiler(\n",
    "    tile_size=(512, 512),\n",
    "    n_tiles=6,\n",
    "    level=2,\n",
    "    seed=42,\n",
    "    check_tissue=True, # default \n",
    "    prefix=tissue, # save tiles in the \"random\" subdirectory of slide's processed_path\n",
    "    suffix=\".png\" # default\n",
    ")"
   ]
  },
  {
   "cell_type": "markdown",
   "metadata": {},
   "source": [
    "Notice that we also specify the random seed to ensure the reproducibility of the derived dataset.\n",
    "\n",
    "Starting the extraction is as simple as calling the `extract` method on our slide:"
   ]
  },
  {
   "cell_type": "code",
   "execution_count": 22,
   "metadata": {
    "scrolled": true
   },
   "outputs": [],
   "source": [
    "random_tiles_extractor.extract(qpun_slide)\n"
   ]
  },
  {
   "cell_type": "markdown",
   "metadata": {},
   "source": [
    "### Grid extraction\n",
    "\n",
    "Instead of picking tiles at random, we may want to retrieve all the tiles available. The `GridTiler` extractor crops the tiles following a grid structure on the largest tissue region detected in the WSI:"
   ]
  },
  {
   "cell_type": "code",
   "execution_count": 23,
   "metadata": {},
   "outputs": [],
   "source": [
    "from histolab.tiler import GridTiler"
   ]
  },
  {
   "cell_type": "markdown",
   "metadata": {},
   "source": [
    "In our example, we want to extract squared tiles at level 0 of size 512 from our ovarian slide, independently of the amount of tissue detected. By default, tiles will not overlap, namely the parameter defining the number of overlapping pixels between two adjacent tiles, `pixel_overlap`, is set to zero:"
   ]
  },
  {
   "cell_type": "code",
   "execution_count": 27,
   "metadata": {},
   "outputs": [
    {
     "ename": "TypeError",
     "evalue": "__init__() got an unexpected keyword argument 'n_tiles'",
     "output_type": "error",
     "traceback": [
      "\u001b[0;31m---------------------------------------------------------------------------\u001b[0m",
      "\u001b[0;31mTypeError\u001b[0m                                 Traceback (most recent call last)",
      "\u001b[0;32m<ipython-input-27-55c6be994239>\u001b[0m in \u001b[0;36m<module>\u001b[0;34m\u001b[0m\n\u001b[0;32m----> 1\u001b[0;31m grid_tiles_extractor = GridTiler(\n\u001b[0m\u001b[1;32m      2\u001b[0m     \u001b[0mtile_size\u001b[0m\u001b[0;34m=\u001b[0m\u001b[0;34m(\u001b[0m\u001b[0;36m512\u001b[0m\u001b[0;34m,\u001b[0m \u001b[0;36m512\u001b[0m\u001b[0;34m)\u001b[0m\u001b[0;34m,\u001b[0m\u001b[0;34m\u001b[0m\u001b[0;34m\u001b[0m\u001b[0m\n\u001b[1;32m      3\u001b[0m     \u001b[0mlevel\u001b[0m\u001b[0;34m=\u001b[0m\u001b[0;36m2\u001b[0m\u001b[0;34m,\u001b[0m\u001b[0;34m\u001b[0m\u001b[0;34m\u001b[0m\u001b[0m\n\u001b[1;32m      4\u001b[0m     \u001b[0mn_tiles\u001b[0m\u001b[0;34m=\u001b[0m\u001b[0;36m6\u001b[0m\u001b[0;34m,\u001b[0m\u001b[0;34m\u001b[0m\u001b[0;34m\u001b[0m\u001b[0m\n\u001b[1;32m      5\u001b[0m     \u001b[0mcheck_tissue\u001b[0m\u001b[0;34m=\u001b[0m\u001b[0;32mTrue\u001b[0m\u001b[0;34m,\u001b[0m\u001b[0;34m\u001b[0m\u001b[0;34m\u001b[0m\u001b[0m\n",
      "\u001b[0;31mTypeError\u001b[0m: __init__() got an unexpected keyword argument 'n_tiles'"
     ]
    }
   ],
   "source": [
    "grid_tiles_extractor = GridTiler(\n",
    "    tile_size=(512, 512),\n",
    "    level=0, \n",
    "    check_tissue=True, \n",
    "    pixel_overlap=0, # default \n",
    "    prefix=tissue+\"_grid_\", # save tiles in the \"grid\" subdirectory of slide's processed_path \n",
    "    suffix=\".png\" # default\n",
    ")"
   ]
  },
  {
   "cell_type": "markdown",
   "metadata": {},
   "source": [
    "Again, the extraction process starts when the extract method is called on our slide:"
   ]
  },
  {
   "cell_type": "code",
   "execution_count": null,
   "metadata": {},
   "outputs": [],
   "source": [
    "grid_tiles_extractor.extract(qpun_slide)"
   ]
  },
  {
   "cell_type": "markdown",
   "metadata": {},
   "source": [
    "### Score-based extraction\n",
    "\n",
    "According to the task addressed, the tiles extracted may not be equally informative.\n",
    "\n",
    "The `ScoreTiler` allows us to save only the \"best\" tiles, among all the ones extracted with a grid structure, based on a specific scoring function. \n",
    "\n",
    "For example, let's suppose that our goal is the detection of mitotic activity on our ovarian slide. In this case, tiles with a higher presence of nuclei are preferable over tile with little or no nuclei. We can leverage the `NucleiScorer` function of the `scorer` module to order the extracted tiles based on the proportion of the tissue and of the hematoxylin staining.\n",
    "\n",
    "In particular, the score is computed as $N_t\\cdot\\mathrm{tanh}(T_t)$, where $N_t$ is the percentage of nuclei and $T_t$ the percentage of tissue in the tile $t$."
   ]
  },
  {
   "cell_type": "markdown",
   "metadata": {},
   "source": [
    "First, we need the extractor and the scorer:"
   ]
  },
  {
   "cell_type": "code",
   "execution_count": 26,
   "metadata": {},
   "outputs": [],
   "source": [
    "from histolab.tiler import ScoreTiler\n",
    "from histolab.scorer import NucleiScorer\n",
    "import histolab.scorer"
   ]
  },
  {
   "cell_type": "code",
   "execution_count": 29,
   "metadata": {},
   "outputs": [
    {
     "data": {
      "text/plain": [
       "<module 'histolab.scorer' from '/Users/stevenhamel/opt/anaconda3/lib/python3.8/site-packages/histolab/scorer.py'>"
      ]
     },
     "execution_count": 29,
     "metadata": {},
     "output_type": "execute_result"
    }
   ],
   "source": [
    "histolab.scorer"
   ]
  },
  {
   "cell_type": "markdown",
   "metadata": {},
   "source": [
    "As the `ScoreTiler` extends the `GridTiler` extractor, we also set the `pixel_overlap` as additional parameter. Moreover, we can specify the number of the top tiles we want to save with the `n_tile` parameter:"
   ]
  },
  {
   "cell_type": "code",
   "execution_count": 30,
   "metadata": {},
   "outputs": [],
   "source": [
    "scored_tiles_extractor = ScoreTiler(\n",
    "    scorer = NucleiScorer(),\n",
    "    tile_size=(512, 512),\n",
    "    n_tiles=6, \n",
    "    level=0,\n",
    "    check_tissue=True, \n",
    "    pixel_overlap=0, # default \n",
    "    prefix=tissue+\"_scored_\", # save tiles in the \"scored\" subdirectory of slide's processed_path \n",
    "    suffix=\".png\" # default\n",
    ")"
   ]
  },
  {
   "cell_type": "markdown",
   "metadata": {},
   "source": [
    "Finally, when we extract our cropped images, we can also write a report of the saved tiles and their scores in a CSV file:"
   ]
  },
  {
   "cell_type": "code",
   "execution_count": 32,
   "metadata": {},
   "outputs": [
    {
     "name": "stderr",
     "output_type": "stream",
     "text": [
      "/Users/stevenhamel/opt/anaconda3/lib/python3.8/site-packages/histolab/filters/image_filters_functional.py:210: UserWarning: Input image must be RGB. NOTE: the image will be converted to RGB before HED conversion.\n",
      "  hematoxylin = np.array(rgb_to_hed(img))[:, :, 0]\n"
     ]
    }
   ],
   "source": [
    "summary_filename = \"summary_qpun_tiles.csv\"\n",
    "SUMMARY_PATH = os.path.join(qpun_slide.processed_path, summary_filename)\n",
    "\n",
    "scored_tiles_extractor.extract(qpun_slide, report_path=SUMMARY_PATH)"
   ]
  },
  {
   "cell_type": "code",
   "execution_count": null,
   "metadata": {},
   "outputs": [],
   "source": [
    "NucleiScorer()"
   ]
  }
 ],
 "metadata": {
  "kernelspec": {
   "display_name": "Python 3",
   "language": "python",
   "name": "python3"
  },
  "language_info": {
   "codemirror_mode": {
    "name": "ipython",
    "version": 3
   },
   "file_extension": ".py",
   "mimetype": "text/x-python",
   "name": "python",
   "nbconvert_exporter": "python",
   "pygments_lexer": "ipython3",
   "version": "3.8.3"
  }
 },
 "nbformat": 4,
 "nbformat_minor": 4
}
