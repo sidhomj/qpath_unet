{
 "cells": [
  {
   "cell_type": "markdown",
   "metadata": {},
   "source": [
    "# WSI tile scoring and extraction script"
   ]
  },
  {
   "cell_type": "markdown",
   "metadata": {},
   "source": [
    "## [deep-histopath](https://github.com/CODAIT/deep-histopath/blob/master/docs/wsi-preprocessing-in-python/index.md#tiles)"
   ]
  },
  {
   "cell_type": "code",
   "execution_count": 2,
   "metadata": {},
   "outputs": [
    {
     "ename": "ModuleNotFoundError",
     "evalue": "No module named 'deephistopath'",
     "output_type": "error",
     "traceback": [
      "\u001b[0;31m---------------------------------------------------------------------------\u001b[0m",
      "\u001b[0;31mModuleNotFoundError\u001b[0m                       Traceback (most recent call last)",
      "\u001b[0;32m<ipython-input-2-7eba7bfd70a4>\u001b[0m in \u001b[0;36m<module>\u001b[0;34m\u001b[0m\n\u001b[0;32m----> 1\u001b[0;31m \u001b[0;32mfrom\u001b[0m \u001b[0mdeephistopath\u001b[0m\u001b[0;34m.\u001b[0m\u001b[0mwsi\u001b[0m \u001b[0;32mimport\u001b[0m \u001b[0mtiles\u001b[0m\u001b[0;34m\u001b[0m\u001b[0;34m\u001b[0m\u001b[0m\n\u001b[0m",
      "\u001b[0;31mModuleNotFoundError\u001b[0m: No module named 'deephistopath'"
     ]
    }
   ],
   "source": [
    "from deephistopath.wsi import tiles"
   ]
  },
  {
   "cell_type": "markdown",
   "metadata": {},
   "source": [
    "[![](https://warehouse-camo.ingress.cmh1.psfhosted.org/9911ea07db2d5bc14a5a55013c8e5fa0ffecad2f/68747470733a2f2f757365722d696d616765732e67697468756275736572636f6e74656e742e636f6d2f343139363039312f38343832383233322d30343866636330302d623032362d313165612d386361612d3563313462623835363562642e706e67)](https://pypi.org/project/histolab/)\n",
    "<!-- ## [histolab](https://pypi.org/project/histolab/)-->\n",
    "#### For scoring, tiling and extraction:\n",
    "> #### histolab is designed to handle WSIs, automatically detect the tissue, and retrieve informative tiles, and it can thus be integrated in a deep learning pipeline."
   ]
  },
  {
   "cell_type": "code",
   "execution_count": 8,
   "metadata": {},
   "outputs": [],
   "source": [
    "# pip install histolab"
   ]
  },
  {
   "cell_type": "code",
   "execution_count": 64,
   "metadata": {},
   "outputs": [
    {
     "name": "stderr",
     "output_type": "stream",
     "text": [
      "Exception ignored in: <function Scene.__del__ at 0x7fb51bf838b0>\n",
      "Traceback (most recent call last):\n",
      "  File \"/Users/stevenhamel/opt/anaconda3/lib/python3.8/site-packages/slideio/py_slideio.py\", line 32, in __del__\n",
      "    if self.scene is not None:\n",
      "AttributeError: 'Scene' object has no attribute 'scene'\n"
     ]
    }
   ],
   "source": [
    "from histolab.slide import Slide"
   ]
  },
  {
   "cell_type": "code",
   "execution_count": null,
   "metadata": {},
   "outputs": [],
   "source": []
  },
  {
   "cell_type": "code",
   "execution_count": null,
   "metadata": {},
   "outputs": [],
   "source": []
  },
  {
   "cell_type": "markdown",
   "metadata": {},
   "source": [
    "# Py-WSI"
   ]
  },
  {
   "cell_type": "code",
   "execution_count": null,
   "metadata": {},
   "outputs": [],
   "source": [
    "\"\"\"\n",
    "\n",
    "A class for reading Whole-Slide Images\n",
    "\n",
    "Author: @hamelst\n",
    "\n",
    "\"\"\"\n",
    "import py_wsi\n",
    "import py_wsi.imagepy_toolkit as tk\n",
    "import os\n",
    "    \n",
    "class WSI_reader:\n",
    "    \n",
    "    def __init__(self, image_dir=None, **kwargs ):\n",
    "#         self.name = name\n",
    "#         self.salary = salary\n",
    "\n",
    "        # Make sure image directory given is correct \n",
    "        assert image_dir!=None, 'Please make first argument the path to a directory containing all of the svs images'\n",
    "        assert os.path.isdir(image_dir), 'image_dir directory not found'\n",
    "        \n",
    "        # Set default values for arguments\n",
    "        #    - To-do: add documentation in vein of https://github.com/ysbecca/py-wsi/blob/master/py_wsi/turtle.py\n",
    "        options = { #default values\n",
    "                'image_dir' : image_dir,\n",
    "                'db_location' : './WSI_database/',\n",
    "                'xml_dir' : None,\n",
    "                'patch_size' : 512,\n",
    "                'level' : 12,\n",
    "                'db_name' : 'svs_DB',\n",
    "                'overlap' : 0,\n",
    "                'storage_format' : 'hdf5',\n",
    "                'require_DB_path_exists' : False,\n",
    "        }\n",
    "        \n",
    "        # update default values with values given in function\n",
    "        options.update(kwargs)\n",
    "        \n",
    "        # Setup file directory\n",
    "        if options['xml_dir'] == None:\n",
    "            self.xml_dir = options['image_dir']\n",
    "        else:\n",
    "            self.xml_dir = options['xml_dir']\n",
    "        \n",
    "        \n",
    "        \n",
    "   \n",
    "\n",
    "\n",
    "    def displayCount(self):\n",
    "        print (\"Total Employee %d\" % Employee.empCount)\n",
    "\n",
    "    def displayEmployee(self):\n",
    "        print (\"Name : \", self.name,  \", Salary: \", self.salary)"
   ]
  },
  {
   "cell_type": "code",
   "execution_count": 2,
   "metadata": {},
   "outputs": [],
   "source": [
    "import py_wsi\n",
    "import py_wsi.imagepy_toolkit as tk\n",
    "import os"
   ]
  },
  {
   "cell_type": "code",
   "execution_count": 3,
   "metadata": {},
   "outputs": [],
   "source": [
    "tissue = 'R1030'\n",
    "\n",
    "file_dir = f\"../../images/merad_lab_images/{tissue}/\"\n",
    "db_location = f\"../../images/database/{tissue}/\"\n",
    "xml_dir = file_dir\n",
    "patch_size = 512\n",
    "level = 12\n",
    "db_name = tissue+\"_DB\"\n",
    "overlap = 0\n",
    "storage_format = 'hdf5'\n",
    "\n"
   ]
  },
  {
   "cell_type": "code",
   "execution_count": 4,
   "metadata": {},
   "outputs": [],
   "source": [
    "assert os.path.isdir(file_dir), str(file_dir)+\" is not real directory. file_dir must be real directory\"\n",
    "os.makedirs(db_location, exist_ok=True)"
   ]
  },
  {
   "cell_type": "code",
   "execution_count": 5,
   "metadata": {},
   "outputs": [
    {
     "name": "stdout",
     "output_type": "stream",
     "text": [
      "======================================================\n",
      "Storage type:               hdf5\n",
      "Images directory:           ../../images/merad_lab_images/R1030/\n",
      "Data store directory:       ../../images/database/R1030/\n",
      "Images found:               5\n",
      "======================================================\n"
     ]
    }
   ],
   "source": [
    "turtle = py_wsi.Turtle(file_dir, db_location, db_name, xml_dir=xml_dir, storage_type=storage_format)"
   ]
  },
  {
   "cell_type": "code",
   "execution_count": 6,
   "metadata": {},
   "outputs": [
    {
     "data": {
      "text/plain": [
       "['_Turtle__calculate_map_size',\n",
       " '_Turtle__check_file_found',\n",
       " '_Turtle__get_db_meta_name',\n",
       " '_Turtle__get_files_from_dir',\n",
       " '_Turtle__get_items_from_file',\n",
       " '_Turtle__get_patches_from_disk',\n",
       " '_Turtle__get_patches_from_hdf5',\n",
       " '_Turtle__items_to_patches_and_meta',\n",
       " '_Turtle__sample_store_disk',\n",
       " '_Turtle__sample_store_hdf5',\n",
       " '_Turtle__sample_store_lmdb',\n",
       " '__class__',\n",
       " '__delattr__',\n",
       " '__dict__',\n",
       " '__dir__',\n",
       " '__doc__',\n",
       " '__eq__',\n",
       " '__format__',\n",
       " '__ge__',\n",
       " '__getattribute__',\n",
       " '__gt__',\n",
       " '__hash__',\n",
       " '__init__',\n",
       " '__init_subclass__',\n",
       " '__le__',\n",
       " '__lt__',\n",
       " '__module__',\n",
       " '__ne__',\n",
       " '__new__',\n",
       " '__reduce__',\n",
       " '__reduce_ex__',\n",
       " '__repr__',\n",
       " '__setattr__',\n",
       " '__sizeof__',\n",
       " '__str__',\n",
       " '__subclasshook__',\n",
       " '__weakref__',\n",
       " 'db_location',\n",
       " 'db_meta_name',\n",
       " 'db_name',\n",
       " 'file_dir',\n",
       " 'files',\n",
       " 'get_patches_from_file',\n",
       " 'get_set_patches',\n",
       " 'get_xml_files',\n",
       " 'label_map',\n",
       " 'num_files',\n",
       " 'retrieve_sample_patch',\n",
       " 'retrieve_tile_dimensions',\n",
       " 'sample_and_store_patches',\n",
       " 'set_db_location',\n",
       " 'set_db_name',\n",
       " 'set_file_dir',\n",
       " 'set_label_map',\n",
       " 'set_xml_dir',\n",
       " 'storage_type',\n",
       " 'xml_dir']"
      ]
     },
     "execution_count": 6,
     "metadata": {},
     "output_type": "execute_result"
    }
   ],
   "source": [
    "dir(turtle)"
   ]
  },
  {
   "cell_type": "code",
   "execution_count": 7,
   "metadata": {},
   "outputs": [
    {
     "data": {
      "text/plain": [
       "array(['R1030T_CXCL9.svs', 'R1030N_HE.svs', 'R1030T_HE.svs',\n",
       "       'R1030T_TCF1.svs', 'R1030Bx_CXCL9.svs'], dtype='<U17')"
      ]
     },
     "execution_count": 7,
     "metadata": {},
     "output_type": "execute_result"
    }
   ],
   "source": [
    "turtle.files"
   ]
  },
  {
   "cell_type": "code",
   "execution_count": 18,
   "metadata": {},
   "outputs": [
    {
     "name": "stdout",
     "output_type": "stream",
     "text": [
      "R1030T_CXCL9.svs R1030N_HE.svs R1030T_HE.svs R1030T_TCF1.svs R1030Bx_CXCL9.svs Time usage: 0:00:42\n"
     ]
    }
   ],
   "source": [
    "turtle.sample_and_store_patches(patch_size, 12, overlap, load_xml=False, limit_bounds=True)"
   ]
  },
  {
   "cell_type": "code",
   "execution_count": 34,
   "metadata": {},
   "outputs": [],
   "source": [
    "sample_image = turtle.files[1]"
   ]
  },
  {
   "cell_type": "code",
   "execution_count": 36,
   "metadata": {},
   "outputs": [
    {
     "name": "stdout",
     "output_type": "stream",
     "text": [
      "[py-wsi] loaded from R1030N_HE .h5 file (20, 512, 512, 3)\n"
     ]
    }
   ],
   "source": [
    "#np array, \n",
    "x = turtle.get_patches_from_file(sample_image, verbose=True)\n"
   ]
  },
  {
   "cell_type": "code",
   "execution_count": 41,
   "metadata": {},
   "outputs": [
    {
     "data": {
      "text/plain": [
       "[]"
      ]
     },
     "execution_count": 41,
     "metadata": {},
     "output_type": "execute_result"
    }
   ],
   "source": [
    "x[3]"
   ]
  },
  {
   "cell_type": "code",
   "execution_count": null,
   "metadata": {},
   "outputs": [],
   "source": []
  },
  {
   "cell_type": "markdown",
   "metadata": {},
   "source": [
    "# slideIO"
   ]
  },
  {
   "cell_type": "code",
   "execution_count": 94,
   "metadata": {},
   "outputs": [],
   "source": [
    "import os\n",
    "working_directory = '/Users/stevenhamel/Dropbox/My Mac (Steven’s MacBook Pro (2))/Documents/Projects/qpath_unet'\n",
    "os.chdir(working_directory)\n",
    "import slideio\n",
    "import matplotlib.pyplot as plt\n",
    "slide = slideio.open_slide(\"images/merad_lab_images/R1030/R1030T_HE.svs\", \"SVS\")\n",
    "scene = slide.get_scene(0)\n",
    "image = scene.read_block((5000,0,10000,5000), (0,0))"
   ]
  },
  {
   "cell_type": "code",
   "execution_count": 120,
   "metadata": {},
   "outputs": [
    {
     "data": {
      "text/plain": [
       "(25896, 15638)"
      ]
     },
     "execution_count": 120,
     "metadata": {},
     "output_type": "execute_result"
    }
   ],
   "source": [
    "scene.size"
   ]
  },
  {
   "cell_type": "code",
   "execution_count": 74,
   "metadata": {},
   "outputs": [],
   "source": [
    "\"\"\"\n",
    "\n",
    "A class for reading Whole-Slide Images\n",
    "\n",
    "Author: @hamelst\n",
    "\n",
    "\"\"\"\n",
    "\n",
    "import os\n",
    "import slideio\n",
    "from pathlib import Path\n",
    "from typing import Union #TYPE_CHECKING, Iterator, List, Tuple, \n",
    "import numpy as np\n",
    "\n",
    "flatten = lambda *n: (e for a in n\n",
    "    for e in (flatten(*a) if isinstance(a, (tuple, list)) else (a,)))\n",
    "\n",
    "class Image:\n",
    "    \n",
    "    def __init__(self, image_path: Union[str, bytes, os.PathLike]=None,\n",
    "                 image_type: Union[str, bytes, os.PathLike]=None) -> None:\n",
    "        \"\"\"\n",
    "        inputs: \n",
    "            - `image_path`: can be string bytes or path object and represents a full or relative image path \n",
    "                Ex. \"path/to/svs/image.svs\"\n",
    "            - `image_type`: image type according to format from slideio [given here](http://www.slideio.com/drivers.html)\n",
    "                Ex. \"SVS\"\n",
    "        \"\"\"\n",
    "\n",
    "        # Make sure image path is given and path is correct\n",
    "        assert image_path!=None, 'Please make first argument the path to a Whole-Slide Image images'\n",
    "        self.image_path = Path(image_path)\n",
    "        self.image_path_str = str(self.image_path)\n",
    "        assert self.image_path.is_file(), 'Please enter correct path to file. '+str(self.image_path)+' is not actual file'\n",
    "        \n",
    "        \n",
    "        # set correct image tyoe\n",
    "        self._image_type = image_type\n",
    "        if self._image_type == None:\n",
    "            # makes image type an all uppercase version of image_path's extension\n",
    "            self._image_type = str(os.path.splitext(image_path)[1]).upper()[1:]\n",
    "            \n",
    "            \n",
    "        self.slideio_slide = slideio.open_slide(self.image_path_str, self._image_type)\n",
    "        self.slideio_scene = self.slideio_slide.get_scene(0)\n",
    "        # Set default values for arguments\n",
    "        #    - To-do: add documentation in vein of https://github.com/ysbecca/py-wsi/blob/master/py_wsi/turtle.py\n",
    "        \n",
    "        \n",
    "        \n",
    "   \n",
    "\n",
    "\n",
    "    def pull_np(self, coord_tl: Union[tuple, list, np.ndarray]=(0,0), \n",
    "                dim: Union[int, float, tuple, list, np.ndarray]=(0,0),\n",
    "                output_size: Union[int, float, tuple, list, np.ndarray]=(0,0), **kwargs) -> np.ndarray:\n",
    "        import itertools        \n",
    "        \n",
    "        # Work with coordiantes\n",
    "        #flatten the coordinates list\n",
    "        if isinstance(coord_tl, np.ndarray):\n",
    "            coord_tl = tuple(coord_tl.flatten())\n",
    "        coord_tl = tuple(flatten(coord_tl))\n",
    "        assert len(coord_tl)==2, \"Must have 2-D tuple or list of coordinates–in form (x,y)–from top left origin of image with `length==2`. Leave blank to use (0,0)\"\n",
    "        \n",
    "        # Work with dimensions\n",
    "        if isinstance(coord_tl, np.ndarray):\n",
    "            coord_tl = tuple(coord_tl.flatten())\n",
    "        if isinstance(dim, int) or isinstance(dim, float):\n",
    "            dim = (int(dim),int(dim))\n",
    "        else:\n",
    "            dim = tuple(flatten(dim))\n",
    "        assert len(dim)==2, \"Must have 2-D tuple or list or array of image dimesnions in form of (width,height) from top left origin of image with `length==2`. Leave blank to pull rest of image\"\n",
    "        \n",
    "        # Work with output_size\n",
    "        if isinstance(coord_tl, np.ndarray):\n",
    "            coord_tl = tuple(coord_tl.flatten())\n",
    "        if isinstance(output_size, int) or isinstance(output_size, float):\n",
    "            dim = (int(output_size),int(output_size))\n",
    "        else:\n",
    "            dim = tuple(flatten(output_size))\n",
    "        assert len(output_size)==2, \"Must have 2-D tuple or list or array of image dimesnions in form of (width,height) from top left origin of image with `length==2`. Leave blank to pull rest of image\"\n",
    "        \n",
    "        # combine coordinates and dimensions\n",
    "        rect = coord_tl+dim\n",
    "        size = output_size\n",
    "        \n",
    "        image = self.slideio_scene.read_block(rect, size, **kwargs)\n",
    "        \n",
    "        return(image)\n",
    "        "
   ]
  },
  {
   "cell_type": "markdown",
   "metadata": {},
   "source": [
    "## test class"
   ]
  },
  {
   "cell_type": "code",
   "execution_count": 8,
   "metadata": {},
   "outputs": [
    {
     "name": "stdout",
     "output_type": "stream",
     "text": [
      "Collecting tensorflow\n",
      "  Downloading tensorflow-2.6.0-cp38-cp38-macosx_10_11_x86_64.whl (199.0 MB)\n",
      "\u001b[K     |████████████████████████████████| 199.0 MB 108.7 MB/s eta 0:00:01\n",
      "\u001b[?25hCollecting numpy~=1.19.2\n",
      "  Downloading numpy-1.19.5-cp38-cp38-macosx_10_9_x86_64.whl (15.6 MB)\n",
      "\u001b[K     |████████████████████████████████| 15.6 MB 12.9 MB/s eta 0:00:01\n",
      "\u001b[?25hCollecting keras~=2.6\n",
      "  Downloading keras-2.6.0-py2.py3-none-any.whl (1.3 MB)\n",
      "\u001b[K     |████████████████████████████████| 1.3 MB 32.8 MB/s eta 0:00:01\n",
      "\u001b[?25hCollecting google-pasta~=0.2\n",
      "  Downloading google_pasta-0.2.0-py3-none-any.whl (57 kB)\n",
      "\u001b[K     |████████████████████████████████| 57 kB 25.4 MB/s eta 0:00:01\n",
      "\u001b[?25hCollecting gast==0.4.0\n",
      "  Downloading gast-0.4.0-py3-none-any.whl (9.8 kB)\n",
      "Collecting absl-py~=0.10\n",
      "  Downloading absl_py-0.14.1-py3-none-any.whl (131 kB)\n",
      "\u001b[K     |████████████████████████████████| 131 kB 35.2 MB/s eta 0:00:01\n",
      "\u001b[?25hCollecting clang~=5.0\n",
      "  Downloading clang-5.0.tar.gz (30 kB)\n",
      "Collecting flatbuffers~=1.12.0\n",
      "  Downloading flatbuffers-1.12-py2.py3-none-any.whl (15 kB)\n",
      "Collecting keras-preprocessing~=1.1.2\n",
      "  Using cached Keras_Preprocessing-1.1.2-py2.py3-none-any.whl (42 kB)\n",
      "Collecting grpcio<2.0,>=1.37.0\n",
      "  Downloading grpcio-1.41.0-cp38-cp38-macosx_10_10_x86_64.whl (3.9 MB)\n",
      "\u001b[K     |████████████████████████████████| 3.9 MB 31.9 MB/s eta 0:00:01\n",
      "\u001b[?25hCollecting wheel~=0.35\n",
      "  Using cached wheel-0.37.0-py2.py3-none-any.whl (35 kB)\n",
      "Collecting astunparse~=1.6.3\n",
      "  Downloading astunparse-1.6.3-py2.py3-none-any.whl (12 kB)\n",
      "Requirement already satisfied: six~=1.15.0 in /Users/stevenhamel/opt/anaconda3/lib/python3.8/site-packages (from tensorflow) (1.15.0)\n",
      "Collecting termcolor~=1.1.0\n",
      "  Downloading termcolor-1.1.0.tar.gz (3.9 kB)\n",
      "Collecting tensorflow-estimator~=2.6\n",
      "  Downloading tensorflow_estimator-2.6.0-py2.py3-none-any.whl (462 kB)\n",
      "\u001b[K     |████████████████████████████████| 462 kB 38.7 MB/s eta 0:00:01\n",
      "\u001b[?25hCollecting protobuf>=3.9.2\n",
      "  Downloading protobuf-3.18.1-cp38-cp38-macosx_10_9_x86_64.whl (1.0 MB)\n",
      "\u001b[K     |████████████████████████████████| 1.0 MB 76.7 MB/s eta 0:00:01\n",
      "\u001b[?25hCollecting h5py~=3.1.0\n",
      "  Downloading h5py-3.1.0-cp38-cp38-macosx_10_9_x86_64.whl (2.9 MB)\n",
      "\u001b[K     |████████████████████████████████| 2.9 MB 35.8 MB/s eta 0:00:01\n",
      "\u001b[?25hCollecting wrapt~=1.12.1\n",
      "  Using cached wrapt-1.12.1.tar.gz (27 kB)\n",
      "Collecting tensorboard~=2.6\n",
      "  Downloading tensorboard-2.7.0-py3-none-any.whl (5.8 MB)\n",
      "\u001b[K     |████████████████████████████████| 5.8 MB 33.3 MB/s eta 0:00:01\n",
      "\u001b[?25hCollecting opt-einsum~=3.3.0\n",
      "  Using cached opt_einsum-3.3.0-py3-none-any.whl (65 kB)\n",
      "Requirement already satisfied: typing-extensions~=3.7.4 in /Users/stevenhamel/opt/anaconda3/lib/python3.8/site-packages (from tensorflow) (3.7.4.2)\n",
      "Collecting tensorboard-data-server<0.7.0,>=0.6.0\n",
      "  Downloading tensorboard_data_server-0.6.1-py3-none-macosx_10_9_x86_64.whl (3.5 MB)\n",
      "\u001b[K     |████████████████████████████████| 3.5 MB 12.7 MB/s eta 0:00:01\n",
      "\u001b[?25hCollecting tensorboard-plugin-wit>=1.6.0\n",
      "  Using cached tensorboard_plugin_wit-1.8.0-py3-none-any.whl (781 kB)\n",
      "Collecting google-auth<3,>=1.6.3\n",
      "  Downloading google_auth-2.3.0-py2.py3-none-any.whl (154 kB)\n",
      "\u001b[K     |████████████████████████████████| 154 kB 30.4 MB/s eta 0:00:01\n",
      "\u001b[?25hCollecting google-auth-oauthlib<0.5,>=0.4.1\n",
      "  Downloading google_auth_oauthlib-0.4.6-py2.py3-none-any.whl (18 kB)\n",
      "Requirement already satisfied: requests<3,>=2.21.0 in /Users/stevenhamel/opt/anaconda3/lib/python3.8/site-packages (from tensorboard~=2.6->tensorflow) (2.24.0)\n",
      "Collecting markdown>=2.6.8\n",
      "  Using cached Markdown-3.3.4-py3-none-any.whl (97 kB)\n",
      "Requirement already satisfied: werkzeug>=0.11.15 in /Users/stevenhamel/opt/anaconda3/lib/python3.8/site-packages (from tensorboard~=2.6->tensorflow) (1.0.1)\n",
      "Requirement already satisfied: setuptools>=41.0.0 in /Users/stevenhamel/opt/anaconda3/lib/python3.8/site-packages (from tensorboard~=2.6->tensorflow) (49.2.0.post20200714)\n",
      "Collecting rsa<5,>=3.1.4\n",
      "  Using cached rsa-4.7.2-py3-none-any.whl (34 kB)\n",
      "Collecting pyasn1-modules>=0.2.1\n",
      "  Using cached pyasn1_modules-0.2.8-py2.py3-none-any.whl (155 kB)\n",
      "Collecting cachetools<5.0,>=2.0.0\n",
      "  Downloading cachetools-4.2.4-py3-none-any.whl (10 kB)\n",
      "Collecting requests-oauthlib>=0.7.0\n",
      "  Using cached requests_oauthlib-1.3.0-py2.py3-none-any.whl (23 kB)\n",
      "Requirement already satisfied: chardet<4,>=3.0.2 in /Users/stevenhamel/opt/anaconda3/lib/python3.8/site-packages (from requests<3,>=2.21.0->tensorboard~=2.6->tensorflow) (3.0.4)\n",
      "Requirement already satisfied: idna<3,>=2.5 in /Users/stevenhamel/opt/anaconda3/lib/python3.8/site-packages (from requests<3,>=2.21.0->tensorboard~=2.6->tensorflow) (2.10)\n",
      "Requirement already satisfied: urllib3!=1.25.0,!=1.25.1,<1.26,>=1.21.1 in /Users/stevenhamel/opt/anaconda3/lib/python3.8/site-packages (from requests<3,>=2.21.0->tensorboard~=2.6->tensorflow) (1.25.9)\n",
      "Requirement already satisfied: certifi>=2017.4.17 in /Users/stevenhamel/opt/anaconda3/lib/python3.8/site-packages (from requests<3,>=2.21.0->tensorboard~=2.6->tensorflow) (2020.6.20)\n",
      "Collecting pyasn1>=0.1.3\n",
      "  Using cached pyasn1-0.4.8-py2.py3-none-any.whl (77 kB)\n",
      "Collecting oauthlib>=3.0.0\n",
      "  Using cached oauthlib-3.1.1-py2.py3-none-any.whl (146 kB)\n",
      "Building wheels for collected packages: clang, termcolor, wrapt\n",
      "  Building wheel for clang (setup.py) ... \u001b[?25ldone\n",
      "\u001b[?25h  Created wheel for clang: filename=clang-5.0-py3-none-any.whl size=30702 sha256=fc57b461904e38b0c97083e7c7155bc8a95131207a104b401e249c9e039dfc0d\n",
      "  Stored in directory: /Users/stevenhamel/Library/Caches/pip/wheels/f1/60/77/22b9b5887bd47801796a856f47650d9789c74dc3161a26d608\n",
      "  Building wheel for termcolor (setup.py) ... \u001b[?25ldone\n",
      "\u001b[?25h  Created wheel for termcolor: filename=termcolor-1.1.0-py3-none-any.whl size=4830 sha256=64fa2e1b68b46f86a437df0f0d20423b9c43f28289f57b8196c46d1e5c8084f5\n",
      "  Stored in directory: /Users/stevenhamel/Library/Caches/pip/wheels/a0/16/9c/5473df82468f958445479c59e784896fa24f4a5fc024b0f501\n",
      "  Building wheel for wrapt (setup.py) ... \u001b[?25ldone\n",
      "\u001b[?25h  Created wheel for wrapt: filename=wrapt-1.12.1-cp38-cp38-macosx_10_9_x86_64.whl size=32732 sha256=15faded5bc5289b62e8e070144a37068bfb088b931fe7e2a180837004a998ae5\n",
      "  Stored in directory: /Users/stevenhamel/Library/Caches/pip/wheels/5f/fd/9e/b6cf5890494cb8ef0b5eaff72e5d55a70fb56316007d6dfe73\n",
      "Successfully built clang termcolor wrapt\n",
      "\u001b[31mERROR: anndata 0.7.6 requires natsort, which is not installed.\u001b[0m\n",
      "\u001b[31mERROR: umap-learn 0.5.1 requires pynndescent>=0.5, which is not installed.\u001b[0m\n",
      "\u001b[31mERROR: anndata 0.7.6 has requirement pandas>=1.1.1, but you'll have pandas 1.0.5 which is incompatible.\u001b[0m\n",
      "Installing collected packages: numpy, keras, google-pasta, gast, absl-py, clang, flatbuffers, keras-preprocessing, grpcio, wheel, astunparse, termcolor, tensorflow-estimator, protobuf, h5py, wrapt, tensorboard-data-server, tensorboard-plugin-wit, pyasn1, rsa, pyasn1-modules, cachetools, google-auth, oauthlib, requests-oauthlib, google-auth-oauthlib, markdown, tensorboard, opt-einsum, tensorflow\n",
      "  Attempting uninstall: numpy\n",
      "    Found existing installation: numpy 1.21.0\n",
      "    Uninstalling numpy-1.21.0:\n",
      "      Successfully uninstalled numpy-1.21.0\n",
      "  Attempting uninstall: wheel\n",
      "    Found existing installation: wheel 0.34.2\n",
      "    Uninstalling wheel-0.34.2:\n",
      "      Successfully uninstalled wheel-0.34.2\n",
      "  Attempting uninstall: h5py\n",
      "    Found existing installation: h5py 2.10.0\n",
      "    Uninstalling h5py-2.10.0:\n",
      "      Successfully uninstalled h5py-2.10.0\n",
      "  Attempting uninstall: wrapt\n",
      "    Found existing installation: wrapt 1.11.2\n",
      "    Uninstalling wrapt-1.11.2:\n",
      "      Successfully uninstalled wrapt-1.11.2\n",
      "Successfully installed absl-py-0.14.1 astunparse-1.6.3 cachetools-4.2.4 clang-5.0 flatbuffers-1.12 gast-0.4.0 google-auth-2.3.0 google-auth-oauthlib-0.4.6 google-pasta-0.2.0 grpcio-1.41.0 h5py-3.1.0 keras-2.6.0 keras-preprocessing-1.1.2 markdown-3.3.4 numpy-1.19.5 oauthlib-3.1.1 opt-einsum-3.3.0 protobuf-3.18.1 pyasn1-0.4.8 pyasn1-modules-0.2.8 requests-oauthlib-1.3.0 rsa-4.7.2 tensorboard-2.7.0 tensorboard-data-server-0.6.1 tensorboard-plugin-wit-1.8.0 tensorflow-2.6.0 tensorflow-estimator-2.6.0 termcolor-1.1.0 wheel-0.37.0 wrapt-1.12.1\n",
      "Note: you may need to restart the kernel to use updated packages.\n"
     ]
    }
   ],
   "source": [
    "pip install tensorflow"
   ]
  },
  {
   "cell_type": "code",
   "execution_count": 3,
   "metadata": {},
   "outputs": [],
   "source": [
    "import sys\n",
    "import os\n",
    "working_directory = '/Users/stevenhamel/Dropbox/My Mac (Steven’s MacBook Pro (2))/Documents/Projects/qpath_unet'\n",
    "sys.path.append(os.path.join(working_directory,'pkg'))"
   ]
  },
  {
   "cell_type": "code",
   "execution_count": 12,
   "metadata": {},
   "outputs": [
    {
     "ename": "NameError",
     "evalue": "name 'np' is not defined",
     "output_type": "error",
     "traceback": [
      "\u001b[0;31m---------------------------------------------------------------------------\u001b[0m",
      "\u001b[0;31mNameError\u001b[0m                                 Traceback (most recent call last)",
      "\u001b[0;32m<ipython-input-12-1edbdcbc8540>\u001b[0m in \u001b[0;36m<module>\u001b[0;34m\u001b[0m\n\u001b[1;32m      5\u001b[0m \u001b[0;31m# img_type = None\u001b[0m\u001b[0;34m\u001b[0m\u001b[0;34m\u001b[0m\u001b[0;34m\u001b[0m\u001b[0m\n\u001b[1;32m      6\u001b[0m \u001b[0mimg_object\u001b[0m  \u001b[0;34m=\u001b[0m  \u001b[0mWSI_reader\u001b[0m\u001b[0;34m.\u001b[0m\u001b[0mWSI_reader\u001b[0m\u001b[0;34m(\u001b[0m\u001b[0mimg_path\u001b[0m\u001b[0;34m)\u001b[0m\u001b[0;34m\u001b[0m\u001b[0;34m\u001b[0m\u001b[0m\n\u001b[0;32m----> 7\u001b[0;31m \u001b[0mimg\u001b[0m \u001b[0;34m=\u001b[0m \u001b[0mimg_object\u001b[0m\u001b[0;34m.\u001b[0m\u001b[0mpull_np\u001b[0m\u001b[0;34m(\u001b[0m\u001b[0mnp\u001b[0m\u001b[0;34m.\u001b[0m\u001b[0marray\u001b[0m\u001b[0;34m(\u001b[0m\u001b[0;34m[\u001b[0m\u001b[0;36m2000\u001b[0m\u001b[0;34m,\u001b[0m\u001b[0;36m5000\u001b[0m\u001b[0;34m]\u001b[0m\u001b[0;34m)\u001b[0m\u001b[0;34m)\u001b[0m\u001b[0;34m\u001b[0m\u001b[0;34m\u001b[0m\u001b[0m\n\u001b[0m",
      "\u001b[0;31mNameError\u001b[0m: name 'np' is not defined"
     ]
    }
   ],
   "source": [
    "import matplotlib.pyplot as plt\n",
    "import WSI_reader \n",
    "\n",
    "img_path = '/Users/stevenhamel/Dropbox/My Mac (Steven’s MacBook Pro (2))/Documents/Projects/qpath_unet/images/merad_lab_images/R1030/R1030T_HE.svs'\n",
    "# img_type = None\n",
    "img_object  =  WSI_reader.WSI_reader(img_path)\n",
    "img = img_object.pull_np(np.array([2000,5000]))"
   ]
  },
  {
   "cell_type": "code",
   "execution_count": 44,
   "metadata": {},
   "outputs": [
    {
     "data": {
      "text/plain": [
       "<matplotlib.image.AxesImage at 0x7fdc870cf880>"
      ]
     },
     "execution_count": 44,
     "metadata": {},
     "output_type": "execute_result"
    },
    {
     "data": {
      "image/png": "[encoded data removed]",
      "text/plain": [
       "<Figure size 432x288 with 1 Axes>"
      ]
     },
     "metadata": {
      "needs_background": "light"
     },
     "output_type": "display_data"
    }
   ],
   "source": [
    "plt.imshow(img)"
   ]
  },
  {
   "cell_type": "code",
   "execution_count": 66,
   "metadata": {},
   "outputs": [],
   "source": [
    "arr = np.array([[2000,5000],[200000,-3]])"
   ]
  },
  {
   "cell_type": "code",
   "execution_count": null,
   "metadata": {},
   "outputs": [],
   "source": []
  },
  {
   "cell_type": "code",
   "execution_count": 67,
   "metadata": {},
   "outputs": [],
   "source": [
    "flatten = lambda *n: (e for a in n\n",
    "    for e in (flatten(*a) if isinstance(a, (tuple, list)) else (a,)))"
   ]
  },
  {
   "cell_type": "code",
   "execution_count": 70,
   "metadata": {},
   "outputs": [
    {
     "data": {
      "text/plain": [
       "(array([2000, 5000]), array([200000,     -3]))"
      ]
     },
     "execution_count": 70,
     "metadata": {},
     "output_type": "execute_result"
    }
   ],
   "source": [
    "tuple(flatten(tuple(flatten(tuple(arr)))))"
   ]
  },
  {
   "cell_type": "code",
   "execution_count": 76,
   "metadata": {},
   "outputs": [
    {
     "data": {
      "text/plain": [
       "(2000, 5000, 200000, -3)"
      ]
     },
     "execution_count": 76,
     "metadata": {},
     "output_type": "execute_result"
    }
   ],
   "source": [
    "tuple(flatten(tuple(arr.flatten())))\n"
   ]
  },
  {
   "cell_type": "code",
   "execution_count": null,
   "metadata": {},
   "outputs": [],
   "source": []
  }
 ],
 "metadata": {
  "kernelspec": {
   "display_name": "Python 3",
   "language": "python",
   "name": "python3"
  },
  "language_info": {
   "codemirror_mode": {
    "name": "ipython",
    "version": 3
   },
   "file_extension": ".py",
   "mimetype": "text/x-python",
   "name": "python",
   "nbconvert_exporter": "python",
   "pygments_lexer": "ipython3",
   "version": "3.8.3"
  }
 },
 "nbformat": 4,
 "nbformat_minor": 4
}
