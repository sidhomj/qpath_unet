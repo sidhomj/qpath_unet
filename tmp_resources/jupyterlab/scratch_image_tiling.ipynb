{
 "cells": [
  {
   "cell_type": "markdown",
   "metadata": {},
   "source": [
    "# WSI tile scoring and extraction script"
   ]
  },
  {
   "cell_type": "markdown",
   "metadata": {},
   "source": [
    "## [deep-histopath](https://github.com/CODAIT/deep-histopath/blob/master/docs/wsi-preprocessing-in-python/index.md#tiles)"
   ]
  },
  {
   "cell_type": "code",
   "execution_count": 2,
   "metadata": {},
   "outputs": [
    {
     "ename": "ModuleNotFoundError",
     "evalue": "No module named 'deephistopath'",
     "output_type": "error",
     "traceback": [
      "\u001b[0;31m---------------------------------------------------------------------------\u001b[0m",
      "\u001b[0;31mModuleNotFoundError\u001b[0m                       Traceback (most recent call last)",
      "\u001b[0;32m<ipython-input-2-7eba7bfd70a4>\u001b[0m in \u001b[0;36m<module>\u001b[0;34m\u001b[0m\n\u001b[0;32m----> 1\u001b[0;31m \u001b[0;32mfrom\u001b[0m \u001b[0mdeephistopath\u001b[0m\u001b[0;34m.\u001b[0m\u001b[0mwsi\u001b[0m \u001b[0;32mimport\u001b[0m \u001b[0mtiles\u001b[0m\u001b[0;34m\u001b[0m\u001b[0;34m\u001b[0m\u001b[0m\n\u001b[0m",
      "\u001b[0;31mModuleNotFoundError\u001b[0m: No module named 'deephistopath'"
     ]
    }
   ],
   "source": [
    "from deephistopath.wsi import tiles"
   ]
  },
  {
   "cell_type": "markdown",
   "metadata": {},
   "source": [
    "[![](https://warehouse-camo.ingress.cmh1.psfhosted.org/9911ea07db2d5bc14a5a55013c8e5fa0ffecad2f/68747470733a2f2f757365722d696d616765732e67697468756275736572636f6e74656e742e636f6d2f343139363039312f38343832383233322d30343866636330302d623032362d313165612d386361612d3563313462623835363562642e706e67)](https://pypi.org/project/histolab/)\n",
    "<!-- ## [histolab](https://pypi.org/project/histolab/)-->\n",
    "#### For scoring, tiling and extraction:\n",
    "> #### histolab is designed to handle WSIs, automatically detect the tissue, and retrieve informative tiles, and it can thus be integrated in a deep learning pipeline."
   ]
  },
  {
   "cell_type": "code",
   "execution_count": 8,
   "metadata": {},
   "outputs": [],
   "source": [
    "# pip install histolab"
   ]
  },
  {
   "cell_type": "code",
   "execution_count": 9,
   "metadata": {},
   "outputs": [],
   "source": [
    "from histolab.slide import Slide"
   ]
  },
  {
   "cell_type": "code",
   "execution_count": null,
   "metadata": {},
   "outputs": [],
   "source": []
  },
  {
   "cell_type": "code",
   "execution_count": null,
   "metadata": {},
   "outputs": [],
   "source": []
  },
  {
   "cell_type": "markdown",
   "metadata": {},
   "source": [
    "# Py-WSI"
   ]
  },
  {
   "cell_type": "code",
   "execution_count": null,
   "metadata": {},
   "outputs": [],
   "source": [
    "\"\"\"\n",
    "\n",
    "A class for reading Whole-Slide Images\n",
    "\n",
    "Author: @hamelst\n",
    "\n",
    "\"\"\"\n",
    "import py_wsi\n",
    "import py_wsi.imagepy_toolkit as tk\n",
    "import os\n",
    "    \n",
    "class WSI_reader:\n",
    "    \n",
    "    def __init__(self, image_dir=None, **kwargs ):\n",
    "#         self.name = name\n",
    "#         self.salary = salary\n",
    "\n",
    "        # Make sure image directory given is correct \n",
    "        assert image_dir!=None, 'Please make first argument the path to a directory containing all of the svs images'\n",
    "        assert os.path.isdir(image_dir), 'image_dir directory not found'\n",
    "        \n",
    "        # Set default values for arguments\n",
    "        #    - To-do: add documentation in vein of https://github.com/ysbecca/py-wsi/blob/master/py_wsi/turtle.py\n",
    "        options = { #default values\n",
    "                'image_dir' : image_dir,\n",
    "                'db_location' : './WSI_database/',\n",
    "                'xml_dir' : None,\n",
    "                'patch_size' : 512,\n",
    "                'level' : 12,\n",
    "                'db_name' : 'svs_DB',\n",
    "                'overlap' : 0,\n",
    "                'storage_format' : 'hdf5',\n",
    "                'require_DB_path_exists' : False,\n",
    "        }\n",
    "        \n",
    "        # update default values with values given in function\n",
    "        options.update(kwargs)\n",
    "        \n",
    "        # Setup file directory\n",
    "        if options['xml_dir'] == None:\n",
    "            self.xml_dir = options['image_dir']\n",
    "        else:\n",
    "            self.xml_dir = options['xml_dir']\n",
    "        \n",
    "        \n",
    "        \n",
    "   \n",
    "\n",
    "\n",
    "    def displayCount(self):\n",
    "        print (\"Total Employee %d\" % Employee.empCount)\n",
    "\n",
    "    def displayEmployee(self):\n",
    "        print (\"Name : \", self.name,  \", Salary: \", self.salary)"
   ]
  },
  {
   "cell_type": "code",
   "execution_count": 2,
   "metadata": {},
   "outputs": [],
   "source": [
    "import py_wsi\n",
    "import py_wsi.imagepy_toolkit as tk\n",
    "import os"
   ]
  },
  {
   "cell_type": "code",
   "execution_count": 3,
   "metadata": {},
   "outputs": [],
   "source": [
    "tissue = 'R1030'\n",
    "\n",
    "file_dir = f\"../../images/merad_lab_images/{tissue}/\"\n",
    "db_location = f\"../../images/database/{tissue}/\"\n",
    "xml_dir = file_dir\n",
    "patch_size = 512\n",
    "level = 12\n",
    "db_name = tissue+\"_DB\"\n",
    "overlap = 0\n",
    "storage_format = 'hdf5'\n",
    "\n"
   ]
  },
  {
   "cell_type": "code",
   "execution_count": 4,
   "metadata": {},
   "outputs": [],
   "source": [
    "assert os.path.isdir(file_dir), str(file_dir)+\" is not real directory. file_dir must be real directory\"\n",
    "os.makedirs(db_location, exist_ok=True)"
   ]
  },
  {
   "cell_type": "code",
   "execution_count": 5,
   "metadata": {},
   "outputs": [
    {
     "name": "stdout",
     "output_type": "stream",
     "text": [
      "======================================================\n",
      "Storage type:               hdf5\n",
      "Images directory:           ../../images/merad_lab_images/R1030/\n",
      "Data store directory:       ../../images/database/R1030/\n",
      "Images found:               5\n",
      "======================================================\n"
     ]
    }
   ],
   "source": [
    "turtle = py_wsi.Turtle(file_dir, db_location, db_name, xml_dir=xml_dir, storage_type=storage_format)"
   ]
  },
  {
   "cell_type": "code",
   "execution_count": 6,
   "metadata": {},
   "outputs": [
    {
     "data": {
      "text/plain": [
       "['_Turtle__calculate_map_size',\n",
       " '_Turtle__check_file_found',\n",
       " '_Turtle__get_db_meta_name',\n",
       " '_Turtle__get_files_from_dir',\n",
       " '_Turtle__get_items_from_file',\n",
       " '_Turtle__get_patches_from_disk',\n",
       " '_Turtle__get_patches_from_hdf5',\n",
       " '_Turtle__items_to_patches_and_meta',\n",
       " '_Turtle__sample_store_disk',\n",
       " '_Turtle__sample_store_hdf5',\n",
       " '_Turtle__sample_store_lmdb',\n",
       " '__class__',\n",
       " '__delattr__',\n",
       " '__dict__',\n",
       " '__dir__',\n",
       " '__doc__',\n",
       " '__eq__',\n",
       " '__format__',\n",
       " '__ge__',\n",
       " '__getattribute__',\n",
       " '__gt__',\n",
       " '__hash__',\n",
       " '__init__',\n",
       " '__init_subclass__',\n",
       " '__le__',\n",
       " '__lt__',\n",
       " '__module__',\n",
       " '__ne__',\n",
       " '__new__',\n",
       " '__reduce__',\n",
       " '__reduce_ex__',\n",
       " '__repr__',\n",
       " '__setattr__',\n",
       " '__sizeof__',\n",
       " '__str__',\n",
       " '__subclasshook__',\n",
       " '__weakref__',\n",
       " 'db_location',\n",
       " 'db_meta_name',\n",
       " 'db_name',\n",
       " 'file_dir',\n",
       " 'files',\n",
       " 'get_patches_from_file',\n",
       " 'get_set_patches',\n",
       " 'get_xml_files',\n",
       " 'label_map',\n",
       " 'num_files',\n",
       " 'retrieve_sample_patch',\n",
       " 'retrieve_tile_dimensions',\n",
       " 'sample_and_store_patches',\n",
       " 'set_db_location',\n",
       " 'set_db_name',\n",
       " 'set_file_dir',\n",
       " 'set_label_map',\n",
       " 'set_xml_dir',\n",
       " 'storage_type',\n",
       " 'xml_dir']"
      ]
     },
     "execution_count": 6,
     "metadata": {},
     "output_type": "execute_result"
    }
   ],
   "source": [
    "dir(turtle)"
   ]
  },
  {
   "cell_type": "code",
   "execution_count": 7,
   "metadata": {},
   "outputs": [
    {
     "data": {
      "text/plain": [
       "array(['R1030T_CXCL9.svs', 'R1030N_HE.svs', 'R1030T_HE.svs',\n",
       "       'R1030T_TCF1.svs', 'R1030Bx_CXCL9.svs'], dtype='<U17')"
      ]
     },
     "execution_count": 7,
     "metadata": {},
     "output_type": "execute_result"
    }
   ],
   "source": [
    "turtle.files"
   ]
  },
  {
   "cell_type": "code",
   "execution_count": 18,
   "metadata": {},
   "outputs": [
    {
     "name": "stdout",
     "output_type": "stream",
     "text": [
      "R1030T_CXCL9.svs R1030N_HE.svs R1030T_HE.svs R1030T_TCF1.svs R1030Bx_CXCL9.svs Time usage: 0:00:42\n"
     ]
    }
   ],
   "source": [
    "turtle.sample_and_store_patches(patch_size, 12, overlap, load_xml=False, limit_bounds=True)"
   ]
  },
  {
   "cell_type": "code",
   "execution_count": 34,
   "metadata": {},
   "outputs": [],
   "source": [
    "sample_image = turtle.files[1]"
   ]
  },
  {
   "cell_type": "code",
   "execution_count": 36,
   "metadata": {},
   "outputs": [
    {
     "name": "stdout",
     "output_type": "stream",
     "text": [
      "[py-wsi] loaded from R1030N_HE .h5 file (20, 512, 512, 3)\n"
     ]
    }
   ],
   "source": [
    "#np array, \n",
    "x = turtle.get_patches_from_file(sample_image, verbose=True)\n"
   ]
  },
  {
   "cell_type": "code",
   "execution_count": 41,
   "metadata": {},
   "outputs": [
    {
     "data": {
      "text/plain": [
       "[]"
      ]
     },
     "execution_count": 41,
     "metadata": {},
     "output_type": "execute_result"
    }
   ],
   "source": [
    "x[3]"
   ]
  },
  {
   "cell_type": "code",
   "execution_count": null,
   "metadata": {},
   "outputs": [],
   "source": []
  }
 ],
 "metadata": {
  "kernelspec": {
   "display_name": "Python 3",
   "language": "python",
   "name": "python3"
  },
  "language_info": {
   "codemirror_mode": {
    "name": "ipython",
    "version": 3
   },
   "file_extension": ".py",
   "mimetype": "text/x-python",
   "name": "python",
   "nbconvert_exporter": "python",
   "pygments_lexer": "ipython3",
   "version": "3.8.3"
  }
 },
 "nbformat": 4,
 "nbformat_minor": 4
}
